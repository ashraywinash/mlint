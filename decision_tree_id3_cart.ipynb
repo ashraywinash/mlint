{
 "cells": [
  {
   "cell_type": "code",
   "execution_count": 3,
   "id": "b1447cfa",
   "metadata": {},
   "outputs": [],
   "source": [
    "from sklearn.datasets import load_iris\n",
    "from sklearn.model_selection import train_test_split\n",
    "from sklearn.tree import DecisionTreeClassifier\n",
    "from sklearn.metrics import accuracy_score"
   ]
  },
  {
   "cell_type": "code",
   "execution_count": 4,
   "id": "fb117e00",
   "metadata": {},
   "outputs": [],
   "source": [
    "# Load data\n",
    "iris = load_iris()\n",
    "X, y = iris.data, iris.target\n",
    "\n",
    "# Train-test split\n",
    "X_train, X_test, y_train, y_test = train_test_split(X, y, test_size=0.2, random_state=1)"
   ]
  },
  {
   "cell_type": "code",
   "execution_count": 5,
   "id": "0baffd8f",
   "metadata": {},
   "outputs": [
    {
     "name": "stdout",
     "output_type": "stream",
     "text": [
      "CART Accuracy: 0.9666666666666667\n"
     ]
    }
   ],
   "source": [
    "# CART - Gini (default)\n",
    "cart = DecisionTreeClassifier(criterion='gini')\n",
    "cart.fit(X_train, y_train)\n",
    "\n",
    "# Predict & Evaluate\n",
    "y_pred = cart.predict(X_test)\n",
    "print(\"CART Accuracy:\", accuracy_score(y_test, y_pred))\n"
   ]
  },
  {
   "cell_type": "code",
   "execution_count": 6,
   "id": "855d302a",
   "metadata": {},
   "outputs": [
    {
     "name": "stdout",
     "output_type": "stream",
     "text": [
      "ID3 Accuracy: 0.9666666666666667\n"
     ]
    }
   ],
   "source": [
    "# ID3 with entropy using scikit-learn\n",
    "id3 = DecisionTreeClassifier(criterion='entropy')  # uses Information Gain\n",
    "id3.fit(X_train, y_train)\n",
    "\n",
    "# Predict & Evaluate\n",
    "y_pred_id3 = id3.predict(X_test)\n",
    "print(\"ID3 Accuracy:\", accuracy_score(y_test, y_pred_id3))\n"
   ]
  },
  {
   "cell_type": "code",
   "execution_count": 10,
   "id": "48637092",
   "metadata": {},
   "outputs": [],
   "source": [
    "import numpy as np\n",
    "from collections import Counter\n",
    "\n",
    "class Node:\n",
    "    def __init__(self, feature=None, threshold=None, left=None, right=None, *, value=None):\n",
    "        self.feature = feature\n",
    "        self.threshold = threshold\n",
    "        self.left = left\n",
    "        self.right = right\n",
    "        self.value = value  # only for leaf nodes\n",
    "\n",
    "    def is_leaf(self):\n",
    "        return self.value is not None\n",
    "\n",
    "class DTC:\n",
    "    def __init__(self, criterion='gini', max_depth=3):\n",
    "        self.criterion = criterion\n",
    "        self.max_depth = max_depth\n",
    "        self.root = None\n",
    "\n",
    "    def fit(self, X, y):\n",
    "        self.root = self._grow_tree(X, y)\n",
    "\n",
    "    def _impurity(self, y):\n",
    "        counts = np.bincount(y)\n",
    "        probs = counts / len(y)\n",
    "        if self.criterion == 'gini':\n",
    "            return 1 - np.sum(probs**2)\n",
    "        elif self.criterion == 'entropy':\n",
    "            return -np.sum([p * np.log2(p) for p in probs if p > 0])\n",
    "        else:\n",
    "            raise ValueError(\"Unknown criterion\")\n",
    "\n",
    "    def _information_gain(self, y, left_y, right_y):\n",
    "        H = self._impurity(y)\n",
    "        w_l, w_r = len(left_y) / len(y), len(right_y) / len(y)\n",
    "        return H - (w_l * self._impurity(left_y) + w_r * self._impurity(right_y))\n",
    "\n",
    "    def _best_split(self, X, y):\n",
    "        best_gain, best_feat, best_thresh = -1, None, None\n",
    "        for feat in range(X.shape[1]):\n",
    "            thresholds = np.unique(X[:, feat])\n",
    "            for t in thresholds:\n",
    "                left_idx = X[:, feat] <= t\n",
    "                right_idx = X[:, feat] > t\n",
    "                if np.sum(left_idx) == 0 or np.sum(right_idx) == 0:\n",
    "                    continue\n",
    "                gain = self._information_gain(y, y[left_idx], y[right_idx])\n",
    "                if gain > best_gain:\n",
    "                    best_gain, best_feat, best_thresh = gain, feat, t\n",
    "        return best_feat, best_thresh\n",
    "\n",
    "    def _grow_tree(self, X, y, depth=0):\n",
    "        if len(set(y)) == 1 or depth >= self.max_depth:\n",
    "            leaf_value = Counter(y).most_common(1)[0][0]\n",
    "            return Node(value=leaf_value)\n",
    "\n",
    "        feat, thresh = self._best_split(X, y)\n",
    "        if feat is None:\n",
    "            return Node(value=Counter(y).most_common(1)[0][0])\n",
    "\n",
    "        left_idx = X[:, feat] <= thresh\n",
    "        right_idx = X[:, feat] > thresh\n",
    "\n",
    "        left = self._grow_tree(X[left_idx], y[left_idx], depth + 1)\n",
    "        right = self._grow_tree(X[right_idx], y[right_idx], depth + 1)\n",
    "        return Node(feat, thresh, left, right)\n",
    "\n",
    "    def _predict(self, x, node):\n",
    "        if node.is_leaf():\n",
    "            return node.value\n",
    "        if x[node.feature] <= node.threshold:\n",
    "            return self._predict(x, node.left)\n",
    "        else:\n",
    "            return self._predict(x, node.right)\n",
    "\n",
    "    def predict(self, X):\n",
    "        return np.array([self._predict(x, self.root) for x in X])\n"
   ]
  },
  {
   "cell_type": "code",
   "execution_count": 11,
   "id": "ff2b5125",
   "metadata": {},
   "outputs": [
    {
     "name": "stdout",
     "output_type": "stream",
     "text": [
      "ID3 (entropy) Accuracy: 1.0\n",
      "CART (gini) Accuracy: 1.0\n"
     ]
    }
   ],
   "source": [
    "from sklearn.datasets import load_iris\n",
    "from sklearn.model_selection import train_test_split\n",
    "from sklearn.metrics import accuracy_score\n",
    "\n",
    "iris = load_iris()\n",
    "X, y = iris.data, iris.target\n",
    "\n",
    "# For simplicity, only use 2 classes\n",
    "X, y = X[y != 2], y[y != 2]\n",
    "\n",
    "X_train, X_test, y_train, y_test = train_test_split(X, y, test_size=0.2, random_state=0)\n",
    "\n",
    "# ID3 (entropy)\n",
    "tree_entropy = DTC(criterion='entropy', max_depth=3)\n",
    "tree_entropy.fit(X_train, y_train)\n",
    "pred_entropy = tree_entropy.predict(X_test)\n",
    "print(\"ID3 (entropy) Accuracy:\", accuracy_score(y_test, pred_entropy))\n",
    "\n",
    "# CART (gini)\n",
    "tree_gini = DTC(criterion='gini', max_depth=3)\n",
    "tree_gini.fit(X_train, y_train)\n",
    "pred_gini = tree_gini.predict(X_test)\n",
    "print(\"CART (gini) Accuracy:\", accuracy_score(y_test, pred_gini))\n"
   ]
  },
  {
   "cell_type": "code",
   "execution_count": null,
   "id": "38105c9a",
   "metadata": {},
   "outputs": [],
   "source": []
  }
 ],
 "metadata": {
  "kernelspec": {
   "display_name": "Python 3",
   "language": "python",
   "name": "python3"
  },
  "language_info": {
   "codemirror_mode": {
    "name": "ipython",
    "version": 3
   },
   "file_extension": ".py",
   "mimetype": "text/x-python",
   "name": "python",
   "nbconvert_exporter": "python",
   "pygments_lexer": "ipython3",
   "version": "3.12.2"
  }
 },
 "nbformat": 4,
 "nbformat_minor": 5
}
