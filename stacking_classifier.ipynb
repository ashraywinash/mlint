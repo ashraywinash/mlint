{
 "cells": [
  {
   "cell_type": "code",
   "execution_count": 1,
   "id": "fed3a52a",
   "metadata": {},
   "outputs": [
    {
     "name": "stdout",
     "output_type": "stream",
     "text": [
      "Accuracy: 1.0\n"
     ]
    }
   ],
   "source": [
    "\n",
    "# Importing necessary libraries\n",
    "from sklearn.datasets import load_iris\n",
    "from sklearn.model_selection import train_test_split\n",
    "from sklearn.neighbors import KNeighborsClassifier\n",
    "from sklearn.tree import DecisionTreeClassifier\n",
    "from sklearn.linear_model import LogisticRegression\n",
    "from sklearn.ensemble import StackingClassifier\n",
    "from sklearn.metrics import accuracy_score\n",
    "\n",
    "# Loading the iris dataset\n",
    "iris = load_iris()\n",
    "X, y = iris.data, iris.target\n",
    "\n",
    "# Splitting the dataset into training and testing sets\n",
    "X_train, X_test, y_train, y_test = train_test_split(X, y, random_state=42, test_size=0.2)\n",
    "\n",
    "# Defining base learners\n",
    "base_learners = [\n",
    "    ('knn', KNeighborsClassifier(n_neighbors=3)),\n",
    "    ('dt', DecisionTreeClassifier(random_state=1))\n",
    "]\n",
    "\n",
    "# Defining meta learner\n",
    "meta_learner = LogisticRegression(random_state=1)\n",
    "\n",
    "# Creating the stacking classifier\n",
    "stc = StackingClassifier(estimators=base_learners, final_estimator=meta_learner)\n",
    "\n",
    "# Training the model\n",
    "stc.fit(X_train, y_train)\n",
    "\n",
    "# Making predictions\n",
    "y_pred = stc.predict(X_test)\n",
    "\n",
    "# Evaluating the model\n",
    "print(\"Accuracy:\", accuracy_score(y_test, y_pred))\n"
   ]
  },
  {
   "cell_type": "code",
   "execution_count": null,
   "id": "a2c703bb",
   "metadata": {},
   "outputs": [],
   "source": []
  }
 ],
 "metadata": {
  "kernelspec": {
   "display_name": "base",
   "language": "python",
   "name": "python3"
  },
  "language_info": {
   "codemirror_mode": {
    "name": "ipython",
    "version": 3
   },
   "file_extension": ".py",
   "mimetype": "text/x-python",
   "name": "python",
   "nbconvert_exporter": "python",
   "pygments_lexer": "ipython3",
   "version": "3.12.10"
  }
 },
 "nbformat": 4,
 "nbformat_minor": 5
}
