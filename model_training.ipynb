{
 "cells": [
  {
   "cell_type": "code",
   "execution_count": 4,
   "id": "ab9592c2",
   "metadata": {},
   "outputs": [
    {
     "name": "stdout",
     "output_type": "stream",
     "text": [
      "=== Holdout Validation ===\n",
      "Accuracy: 1.0\n",
      "Precision (macro): 1.0\n",
      "Recall (macro): 1.0\n",
      "F1 Score (macro): 1.0\n",
      "Confusion Matrix:\n",
      " [[19  0  0]\n",
      " [ 0 13  0]\n",
      " [ 0  0 13]]\n",
      "Classification Report:\n",
      "               precision    recall  f1-score   support\n",
      "\n",
      "           0       1.00      1.00      1.00        19\n",
      "           1       1.00      1.00      1.00        13\n",
      "           2       1.00      1.00      1.00        13\n",
      "\n",
      "    accuracy                           1.00        45\n",
      "   macro avg       1.00      1.00      1.00        45\n",
      "weighted avg       1.00      1.00      1.00        45\n",
      "\n",
      "\n",
      "=== K-Fold Cross Validation (5-fold) ===\n",
      "Fold Accuracies: [1.         0.96666667 0.93333333 0.93333333 0.93333333]\n",
      "Mean Accuracy: 0.9533333333333335\n",
      "\n",
      "=== Bootstrap Sampling (100 iterations) ===\n",
      "Average Accuracy: 0.9811333333333333\n",
      "Standard Deviation: 0.010156771140475689\n"
     ]
    }
   ],
   "source": [
    "from sklearn.datasets import load_iris\n",
    "from sklearn.model_selection import train_test_split, KFold, cross_val_score\n",
    "from sklearn.utils import resample\n",
    "from sklearn.metrics import accuracy_score, precision_score, recall_score, f1_score, confusion_matrix, classification_report\n",
    "from sklearn.tree import DecisionTreeClassifier\n",
    "import numpy as np\n",
    "\n",
    "# Load dataset\n",
    "iris = load_iris()\n",
    "X = iris.data\n",
    "y = iris.target\n",
    "\n",
    "# 1. Holdout Validation\n",
    "X_train, X_test, y_train, y_test = train_test_split(X, y, test_size=0.3, random_state=42)\n",
    "model = DecisionTreeClassifier(random_state=42)\n",
    "model.fit(X_train, y_train)\n",
    "y_pred = model.predict(X_test)\n",
    "\n",
    "print(\"=== Holdout Validation ===\")\n",
    "print(\"Accuracy:\", accuracy_score(y_test, y_pred))\n",
    "print(\"Precision (macro):\", precision_score(y_test, y_pred, average='macro'))\n",
    "print(\"Recall (macro):\", recall_score(y_test, y_pred, average='macro'))\n",
    "print(\"F1 Score (macro):\", f1_score(y_test, y_pred, average='macro'))\n",
    "print(\"Confusion Matrix:\\n\", confusion_matrix(y_test, y_pred))\n",
    "print(\"Classification Report:\\n\", classification_report(y_test, y_pred))\n",
    "\n",
    "# 2. K-Fold Cross Validation (K=5)\n",
    "kf = KFold(n_splits=5, shuffle=True, random_state=42)\n",
    "cv_scores = cross_val_score(model, X, y, cv=kf, scoring='accuracy')\n",
    "\n",
    "print(\"\\n=== K-Fold Cross Validation (5-fold) ===\")\n",
    "print(\"Fold Accuracies:\", cv_scores)\n",
    "print(\"Mean Accuracy:\", np.mean(cv_scores))\n",
    "\n",
    "# 3. Bootstrap Sampling\n",
    "n_iterations = 100\n",
    "bootstrap_scores = []\n",
    "\n",
    "for i in range(n_iterations):\n",
    "    X_bs, y_bs = resample(X, y, replace=True, random_state=i)\n",
    "    model_bs = DecisionTreeClassifier(random_state=i)\n",
    "    model_bs.fit(X_bs, y_bs)\n",
    "    \n",
    "    # Evaluate on the original data (not the bootstrap sample)\n",
    "    score = model_bs.score(X, y)\n",
    "    bootstrap_scores.append(score)\n",
    "\n",
    "print(\"\\n=== Bootstrap Sampling (100 iterations) ===\")\n",
    "print(\"Average Accuracy:\", np.mean(bootstrap_scores))\n",
    "print(\"Standard Deviation:\", np.std(bootstrap_scores))\n"
   ]
  },
  {
   "cell_type": "code",
   "execution_count": null,
   "id": "665b78d8",
   "metadata": {},
   "outputs": [],
   "source": []
  }
 ],
 "metadata": {
  "kernelspec": {
   "display_name": "Python 3",
   "language": "python",
   "name": "python3"
  },
  "language_info": {
   "codemirror_mode": {
    "name": "ipython",
    "version": 3
   },
   "file_extension": ".py",
   "mimetype": "text/x-python",
   "name": "python",
   "nbconvert_exporter": "python",
   "pygments_lexer": "ipython3",
   "version": "3.12.2"
  }
 },
 "nbformat": 4,
 "nbformat_minor": 5
}
