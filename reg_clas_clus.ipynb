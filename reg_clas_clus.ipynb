{
 "cells": [
  {
   "cell_type": "code",
   "execution_count": 1,
   "id": "29820acc",
   "metadata": {},
   "outputs": [
    {
     "name": "stdout",
     "output_type": "stream",
     "text": [
      "=== Classification ===\n",
      "Accuracy: 0.9814814814814815\n",
      "Precision (macro): 0.9848484848484849\n",
      "Recall (macro): 0.9824561403508771\n",
      "F1 Score (macro): 0.9832390530064948\n",
      "Confusion Matrix:\n",
      " [[18  1  0]\n",
      " [ 0 21  0]\n",
      " [ 0  0 14]]\n",
      "\n",
      "=== Regression ===\n",
      "MSE: 1.2016123956859275\n",
      "R² Score: 0.0680653350744389\n",
      "\n",
      "=== Clustering ===\n",
      "Silhouette Score: 0.5595823478987213\n",
      "Purity Score: 0.6853932584269663\n"
     ]
    },
    {
     "name": "stderr",
     "output_type": "stream",
     "text": [
      "/Library/Frameworks/Python.framework/Versions/3.12/lib/python3.12/site-packages/sklearn/linear_model/_logistic.py:469: ConvergenceWarning: lbfgs failed to converge (status=1):\n",
      "STOP: TOTAL NO. of ITERATIONS REACHED LIMIT.\n",
      "\n",
      "Increase the number of iterations (max_iter) or scale the data as shown in:\n",
      "    https://scikit-learn.org/stable/modules/preprocessing.html\n",
      "Please also refer to the documentation for alternative solver options:\n",
      "    https://scikit-learn.org/stable/modules/linear_model.html#logistic-regression\n",
      "  n_iter_i = _check_optimize_result(\n"
     ]
    }
   ],
   "source": [
    "from sklearn.datasets import load_wine\n",
    "from sklearn.model_selection import train_test_split\n",
    "from sklearn.linear_model import LogisticRegression, LinearRegression\n",
    "from sklearn.cluster import KMeans\n",
    "from sklearn.metrics import (\n",
    "    accuracy_score, precision_score, recall_score, f1_score, confusion_matrix,\n",
    "    mean_squared_error, r2_score,\n",
    "    silhouette_score\n",
    ")\n",
    "import numpy as np\n",
    "import pandas as pd\n",
    "from collections import Counter\n",
    "\n",
    "# Load dataset\n",
    "data = load_wine()\n",
    "X = pd.DataFrame(data.data, columns=data.feature_names)\n",
    "y = data.target\n",
    "\n",
    "# ----------- 1. Classification (Supervised Learning) -----------\n",
    "X_train, X_test, y_train, y_test = train_test_split(X, y, test_size=0.3, random_state=42)\n",
    "clf = LogisticRegression(max_iter=1000)\n",
    "clf.fit(X_train, y_train)\n",
    "y_pred = clf.predict(X_test)\n",
    "\n",
    "print(\"=== Classification ===\")\n",
    "print(\"Accuracy:\", accuracy_score(y_test, y_pred))\n",
    "print(\"Precision (macro):\", precision_score(y_test, y_pred, average='macro'))\n",
    "print(\"Recall (macro):\", recall_score(y_test, y_pred, average='macro'))\n",
    "print(\"F1 Score (macro):\", f1_score(y_test, y_pred, average='macro'))\n",
    "print(\"Confusion Matrix:\\n\", confusion_matrix(y_test, y_pred))\n",
    "\n",
    "# ----------- 2. Regression (Supervised Learning) -----------\n",
    "# Predict 'malic_acid' using other features\n",
    "X_reg = X.drop(columns='malic_acid')\n",
    "y_reg = X['malic_acid']\n",
    "X_train_r, X_test_r, y_train_r, y_test_r = train_test_split(X_reg, y_reg, test_size=0.3, random_state=42)\n",
    "\n",
    "reg = LinearRegression()\n",
    "reg.fit(X_train_r, y_train_r)\n",
    "y_pred_r = reg.predict(X_test_r)\n",
    "\n",
    "print(\"\\n=== Regression ===\")\n",
    "print(\"MSE:\", mean_squared_error(y_test_r, y_pred_r))\n",
    "print(\"R² Score:\", r2_score(y_test_r, y_pred_r))\n",
    "\n",
    "# ----------- 3. Clustering (Unsupervised Learning) -----------\n",
    "kmeans = KMeans(n_clusters=3, random_state=42)\n",
    "cluster_labels = kmeans.fit_predict(X)\n",
    "\n",
    "# Silhouette Score\n",
    "sil_score = silhouette_score(X, cluster_labels)\n",
    "\n",
    "# Purity calculation\n",
    "def purity_score(y_true, y_pred):\n",
    "    contingency_matrix = pd.crosstab(y_true, y_pred)\n",
    "    return np.sum(np.amax(contingency_matrix.values, axis=0)) / np.sum(contingency_matrix.values)\n",
    "\n",
    "purity = purity_score(y, cluster_labels)\n",
    "\n",
    "print(\"\\n=== Clustering ===\")\n",
    "print(\"Silhouette Score:\", sil_score)\n",
    "print(\"Purity Score:\", purity)\n"
   ]
  },
  {
   "cell_type": "code",
   "execution_count": null,
   "id": "3152a642",
   "metadata": {},
   "outputs": [],
   "source": []
  }
 ],
 "metadata": {
  "kernelspec": {
   "display_name": "Python 3",
   "language": "python",
   "name": "python3"
  },
  "language_info": {
   "codemirror_mode": {
    "name": "ipython",
    "version": 3
   },
   "file_extension": ".py",
   "mimetype": "text/x-python",
   "name": "python",
   "nbconvert_exporter": "python",
   "pygments_lexer": "ipython3",
   "version": "3.12.2"
  }
 },
 "nbformat": 4,
 "nbformat_minor": 5
}
